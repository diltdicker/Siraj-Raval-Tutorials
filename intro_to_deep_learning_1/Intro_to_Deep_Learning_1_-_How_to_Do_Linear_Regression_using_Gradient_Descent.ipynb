{
 "cells": [
  {
   "cell_type": "markdown",
   "metadata": {},
   "source": [
    "How to Do Linear Regression using Gradient Descent\n",
    "---\n",
    "\n",
    "[![](https://i.ytimg.com/vi/XdM6ER7zTLk/hqdefault.jpg)](https://youtu.be/XdM6ER7zTLk?list=PL2-dafEMk2A7YdKv4XfKpfbTH5z6rEEj3)"
   ]
  },
  {
   "cell_type": "code",
   "execution_count": 1,
   "metadata": {},
   "outputs": [
    {
     "name": "stderr",
     "output_type": "stream",
     "text": [
      "/home/dillon/projects/line-art-gan/env/lib/python3.7/site-packages/pandas/compat/__init__.py:117: UserWarning: Could not import the lzma module. Your installed Python is incomplete. Attempting to use lzma compression will result in a RuntimeError.\n",
      "  warnings.warn(msg)\n"
     ]
    }
   ],
   "source": [
    "import pandas as pd\n",
    "import matplotlib.pyplot as plt\n",
    "from sklearn import linear_model\n",
    "from numpy import *"
   ]
  },
  {
   "cell_type": "markdown",
   "metadata": {},
   "source": [
    "### Computer error for given points\n",
    "$$Error_{(m,b)} = \\frac{1}{N} \\sum_{i=1}^N ( y_i - (mx_i + b))^2$$\n",
    "\n",
    "    N: len(points)\n",
    "    x: first col in points\n",
    "    y: second col in points"
   ]
  },
  {
   "cell_type": "code",
   "execution_count": 2,
   "metadata": {},
   "outputs": [],
   "source": [
    "def compute_err_for_given_pts(b, m, points):\n",
    "    err = 0\n",
    "    for i in range(0, len(points)):\n",
    "        x = points[i, 0]\n",
    "        y = points[i, 1]\n",
    "        err += (y - (m * x + b)) **2\n",
    "    return err / float(len(points))"
   ]
  },
  {
   "cell_type": "markdown",
   "metadata": {},
   "source": [
    "### Compute Gradient Descent\n",
    "\n",
    "![](https://spin.atomicobject.com/wp-content/uploads/gradient_descent_error_surface.png)\n",
    "Graph of all possible: y-intercepts(b), slopes(m), and error values\n",
    "\n",
    "#### GOAL: find the point with smallest error (local minima)\n",
    "\n",
    "the way that we calculate the smallest point is by iteratively computing the gradient (tangent line, direction to the smallest point)\n",
    "\n",
    "![](https://miro.medium.com/max/1200/1*iNPHcCxIvcm7RwkRaMTx1g.jpeg)\n",
    "Bowl shape showing iterative process of finding smallest point(error)\n",
    "\n",
    "#### Partial derivative (m)\n",
    "$$\\frac{\\partial}{\\partial m} = \\frac{2}{N} \\sum_{i=1}^N - x_i (y_i - (mx_i + b))$$\n",
    "\n",
    "#### Partial derivative (b)\n",
    "$$\\frac{\\partial}{\\partial b} = \\frac{2}{N} \\sum_{i=1}^N - (y_i - (mx_i + b))$$\n",
    "\n",
    "    N: len(points)"
   ]
  },
  {
   "cell_type": "code",
   "execution_count": 3,
   "metadata": {},
   "outputs": [],
   "source": [
    "def step_gradient(step_b, step_m, points, learning_rate):\n",
    "    # gradient descent\n",
    "    b_grad = 0\n",
    "    m_grad = 0\n",
    "    N = float(len(points))\n",
    "    for i in range(0, len(points)):\n",
    "        x = points[i,0]\n",
    "        y = points[i,1]\n",
    "        b_grad += -(2/N) * (y - ((step_m * x) + step_b))\n",
    "        m_grad += -(2/N) * x * (y - ((step_m * x) + step_b))\n",
    "        \n",
    "    new_b = step_b - (learning_rate * b_grad)\n",
    "    new_m = step_m - (learning_rate * m_grad)\n",
    "    return [new_b, new_m]\n",
    "    \n",
    "def gradient_descent_runner(points, start_b, start_m, learning_rate, num_iterations):\n",
    "    b = start_b\n",
    "    m = start_m\n",
    "\n",
    "    for i in range(num_iterations):\n",
    "        b, m = step_gradient(b, m, array(points), learning_rate)\n",
    "    return [b, m]"
   ]
  },
  {
   "cell_type": "code",
   "execution_count": 4,
   "metadata": {},
   "outputs": [
    {
     "name": "stdout",
     "output_type": "stream",
     "text": [
      "Starting gradient descent at b = 0, m = 0, error = 5565.107834483211\n",
      "Running...\n",
      "After 1000 iterations b = 0.08893651993741346, m = 1.4777440851894448, error = 112.61481011613473\n"
     ]
    }
   ],
   "source": [
    "# dataset\n",
    "points = genfromtxt('data.csv', delimiter=\",\")\n",
    "\n",
    "# hyper param\n",
    "learning_rate = 0.0001\n",
    "num_iterations = 1000\n",
    "\n",
    "# y = mx + b\n",
    "initial_b = 0\n",
    "initial_m = 0\n",
    "\n",
    "print(\"Starting gradient descent at b = {0}, m = {1}, error = {2}\".format(initial_b, initial_m, compute_err_for_given_pts(initial_b, initial_m, points)))\n",
    "print(\"Running...\")\n",
    "[b, m] = gradient_descent_runner(points, initial_b, initial_m, learning_rate, num_iterations)\n",
    "print(\"After {0} iterations b = {1}, m = {2}, error = {3}\".format(num_iterations, b, m, compute_err_for_given_pts(b, m, points)))"
   ]
  },
  {
   "cell_type": "code",
   "execution_count": 7,
   "metadata": {},
   "outputs": [
    {
     "data": {
      "image/png": "[encoded data removed]",
      "text/plain": [
       "<Figure size 576x576 with 1 Axes>"
      ]
     },
     "metadata": {
      "needs_background": "light"
     },
     "output_type": "display_data"
    }
   ],
   "source": [
    "plt.figure(figsize=(8,8))\n",
    "\n",
    "for point in array(points):\n",
    "    plt.plot(point[0], point[1], 'bo')\n",
    "\n",
    "x = linspace(0, 100)\n",
    "y = m*x + b\n",
    "plt.plot(x, y, '-r')\n",
    "    \n",
    "plt.show()"
   ]
  }
 ],
 "metadata": {
  "kernelspec": {
   "display_name": "Python 3.7.6 64-bit ('env': venv)",
   "language": "python",
   "name": "python37664bitenvvenv68c2648e87ed4df4b0d4d28cab621191"
  },
  "language_info": {
   "codemirror_mode": {
    "name": "ipython",
    "version": 3
   },
   "file_extension": ".py",
   "mimetype": "text/x-python",
   "name": "python",
   "nbconvert_exporter": "python",
   "pygments_lexer": "ipython3",
   "version": "3.7.6"
  }
 },
 "nbformat": 4,
 "nbformat_minor": 4
}
